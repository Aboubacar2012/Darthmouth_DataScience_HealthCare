{
 "cells": [
  {
   "cell_type": "markdown",
   "metadata": {},
   "source": [
    "# Using t-test for testing significance of Glucose Treatment in Diabetes "
   ]
  },
  {
   "cell_type": "code",
   "execution_count": 1,
   "metadata": {},
   "outputs": [],
   "source": [
    "import pandas as pd\n",
    "import researchpy as rp\n",
    "import scipy.stats as stats\n",
    "import seaborn as sns\n",
    "import matplotlib.pyplot as plt\n",
    "%matplotlib inline"
   ]
  },
  {
   "cell_type": "code",
   "execution_count": 2,
   "metadata": {},
   "outputs": [],
   "source": [
    "df = pd.read_csv(\"diabetes_treatment.csv\")"
   ]
  },
  {
   "cell_type": "code",
   "execution_count": 3,
   "metadata": {},
   "outputs": [
    {
     "data": {
      "text/html": [
       "<div>\n",
       "<style scoped>\n",
       "    .dataframe tbody tr th:only-of-type {\n",
       "        vertical-align: middle;\n",
       "    }\n",
       "\n",
       "    .dataframe tbody tr th {\n",
       "        vertical-align: top;\n",
       "    }\n",
       "\n",
       "    .dataframe thead th {\n",
       "        text-align: right;\n",
       "    }\n",
       "</style>\n",
       "<table border=\"1\" class=\"dataframe\">\n",
       "  <thead>\n",
       "    <tr style=\"text-align: right;\">\n",
       "      <th></th>\n",
       "      <th>GlucoseTreatment</th>\n",
       "      <th>HbA1c.Baseline</th>\n",
       "      <th>HbA1c.Followup</th>\n",
       "      <th>Female</th>\n",
       "      <th>Age</th>\n",
       "      <th>BMI</th>\n",
       "      <th>SBP</th>\n",
       "    </tr>\n",
       "  </thead>\n",
       "  <tbody>\n",
       "    <tr>\n",
       "      <th>0</th>\n",
       "      <td>True</td>\n",
       "      <td>7.3</td>\n",
       "      <td>6.7</td>\n",
       "      <td>True</td>\n",
       "      <td>65</td>\n",
       "      <td>32.34</td>\n",
       "      <td>139</td>\n",
       "    </tr>\n",
       "    <tr>\n",
       "      <th>1</th>\n",
       "      <td>False</td>\n",
       "      <td>7.9</td>\n",
       "      <td>5.8</td>\n",
       "      <td>True</td>\n",
       "      <td>56</td>\n",
       "      <td>31.64</td>\n",
       "      <td>142</td>\n",
       "    </tr>\n",
       "    <tr>\n",
       "      <th>2</th>\n",
       "      <td>True</td>\n",
       "      <td>13.3</td>\n",
       "      <td>9.2</td>\n",
       "      <td>False</td>\n",
       "      <td>51</td>\n",
       "      <td>35.39</td>\n",
       "      <td>164</td>\n",
       "    </tr>\n",
       "    <tr>\n",
       "      <th>3</th>\n",
       "      <td>False</td>\n",
       "      <td>8.5</td>\n",
       "      <td>9.0</td>\n",
       "      <td>True</td>\n",
       "      <td>46</td>\n",
       "      <td>28.48</td>\n",
       "      <td>124</td>\n",
       "    </tr>\n",
       "    <tr>\n",
       "      <th>4</th>\n",
       "      <td>False</td>\n",
       "      <td>11.5</td>\n",
       "      <td>9.7</td>\n",
       "      <td>True</td>\n",
       "      <td>51</td>\n",
       "      <td>36.05</td>\n",
       "      <td>139</td>\n",
       "    </tr>\n",
       "  </tbody>\n",
       "</table>\n",
       "</div>"
      ],
      "text/plain": [
       "   GlucoseTreatment  HbA1c.Baseline  HbA1c.Followup  Female  Age    BMI  SBP\n",
       "0              True             7.3             6.7    True   65  32.34  139\n",
       "1             False             7.9             5.8    True   56  31.64  142\n",
       "2              True            13.3             9.2   False   51  35.39  164\n",
       "3             False             8.5             9.0    True   46  28.48  124\n",
       "4             False            11.5             9.7    True   51  36.05  139"
      ]
     },
     "execution_count": 3,
     "metadata": {},
     "output_type": "execute_result"
    }
   ],
   "source": [
    "df.head()"
   ]
  },
  {
   "cell_type": "code",
   "execution_count": 4,
   "metadata": {},
   "outputs": [
    {
     "name": "stdout",
     "output_type": "stream",
     "text": [
      "<class 'pandas.core.frame.DataFrame'>\n",
      "RangeIndex: 520 entries, 0 to 519\n",
      "Data columns (total 7 columns):\n",
      "GlucoseTreatment    520 non-null bool\n",
      "HbA1c.Baseline      520 non-null float64\n",
      "HbA1c.Followup      520 non-null float64\n",
      "Female              520 non-null bool\n",
      "Age                 520 non-null int64\n",
      "BMI                 520 non-null float64\n",
      "SBP                 520 non-null int64\n",
      "dtypes: bool(2), float64(3), int64(2)\n",
      "memory usage: 21.4 KB\n"
     ]
    }
   ],
   "source": [
    "df.info()"
   ]
  },
  {
   "cell_type": "code",
   "execution_count": 5,
   "metadata": {},
   "outputs": [
    {
     "data": {
      "text/html": [
       "<div>\n",
       "<style scoped>\n",
       "    .dataframe tbody tr th:only-of-type {\n",
       "        vertical-align: middle;\n",
       "    }\n",
       "\n",
       "    .dataframe tbody tr th {\n",
       "        vertical-align: top;\n",
       "    }\n",
       "\n",
       "    .dataframe thead th {\n",
       "        text-align: right;\n",
       "    }\n",
       "</style>\n",
       "<table border=\"1\" class=\"dataframe\">\n",
       "  <thead>\n",
       "    <tr style=\"text-align: right;\">\n",
       "      <th></th>\n",
       "      <th>GlucoseTreatment</th>\n",
       "      <th>HbA1c.Baseline</th>\n",
       "      <th>HbA1c.Followup</th>\n",
       "      <th>Female</th>\n",
       "      <th>Age</th>\n",
       "      <th>BMI</th>\n",
       "      <th>SBP</th>\n",
       "      <th>HbA1c.Change</th>\n",
       "    </tr>\n",
       "  </thead>\n",
       "  <tbody>\n",
       "    <tr>\n",
       "      <th>0</th>\n",
       "      <td>True</td>\n",
       "      <td>7.3</td>\n",
       "      <td>6.7</td>\n",
       "      <td>True</td>\n",
       "      <td>65</td>\n",
       "      <td>32.34</td>\n",
       "      <td>139</td>\n",
       "      <td>-0.6</td>\n",
       "    </tr>\n",
       "    <tr>\n",
       "      <th>1</th>\n",
       "      <td>False</td>\n",
       "      <td>7.9</td>\n",
       "      <td>5.8</td>\n",
       "      <td>True</td>\n",
       "      <td>56</td>\n",
       "      <td>31.64</td>\n",
       "      <td>142</td>\n",
       "      <td>-2.1</td>\n",
       "    </tr>\n",
       "    <tr>\n",
       "      <th>2</th>\n",
       "      <td>True</td>\n",
       "      <td>13.3</td>\n",
       "      <td>9.2</td>\n",
       "      <td>False</td>\n",
       "      <td>51</td>\n",
       "      <td>35.39</td>\n",
       "      <td>164</td>\n",
       "      <td>-4.1</td>\n",
       "    </tr>\n",
       "    <tr>\n",
       "      <th>3</th>\n",
       "      <td>False</td>\n",
       "      <td>8.5</td>\n",
       "      <td>9.0</td>\n",
       "      <td>True</td>\n",
       "      <td>46</td>\n",
       "      <td>28.48</td>\n",
       "      <td>124</td>\n",
       "      <td>0.5</td>\n",
       "    </tr>\n",
       "    <tr>\n",
       "      <th>4</th>\n",
       "      <td>False</td>\n",
       "      <td>11.5</td>\n",
       "      <td>9.7</td>\n",
       "      <td>True</td>\n",
       "      <td>51</td>\n",
       "      <td>36.05</td>\n",
       "      <td>139</td>\n",
       "      <td>-1.8</td>\n",
       "    </tr>\n",
       "  </tbody>\n",
       "</table>\n",
       "</div>"
      ],
      "text/plain": [
       "   GlucoseTreatment  HbA1c.Baseline  HbA1c.Followup  Female  Age    BMI  SBP  \\\n",
       "0              True             7.3             6.7    True   65  32.34  139   \n",
       "1             False             7.9             5.8    True   56  31.64  142   \n",
       "2              True            13.3             9.2   False   51  35.39  164   \n",
       "3             False             8.5             9.0    True   46  28.48  124   \n",
       "4             False            11.5             9.7    True   51  36.05  139   \n",
       "\n",
       "   HbA1c.Change  \n",
       "0          -0.6  \n",
       "1          -2.1  \n",
       "2          -4.1  \n",
       "3           0.5  \n",
       "4          -1.8  "
      ]
     },
     "execution_count": 5,
     "metadata": {},
     "output_type": "execute_result"
    }
   ],
   "source": [
    "# calculate the change in HbA1c for treatment and no glucose treatment\n",
    "\n",
    "df['HbA1c.Change'] = df['HbA1c.Followup'] - df['HbA1c.Baseline'] \n",
    "df.head()"
   ]
  },
  {
   "cell_type": "markdown",
   "metadata": {},
   "source": [
    "## Test to see if the change in HbA1c is significantly different between patients that received the glucose treatment and the mean of the population."
   ]
  },
  {
   "cell_type": "code",
   "execution_count": 6,
   "metadata": {},
   "outputs": [
    {
     "data": {
      "text/html": [
       "<div>\n",
       "<style scoped>\n",
       "    .dataframe tbody tr th:only-of-type {\n",
       "        vertical-align: middle;\n",
       "    }\n",
       "\n",
       "    .dataframe tbody tr th {\n",
       "        vertical-align: top;\n",
       "    }\n",
       "\n",
       "    .dataframe thead th {\n",
       "        text-align: right;\n",
       "    }\n",
       "</style>\n",
       "<table border=\"1\" class=\"dataframe\">\n",
       "  <thead>\n",
       "    <tr style=\"text-align: right;\">\n",
       "      <th></th>\n",
       "      <th>GlucoseTreatment</th>\n",
       "      <th>HbA1c.Baseline</th>\n",
       "      <th>HbA1c.Followup</th>\n",
       "      <th>Female</th>\n",
       "      <th>Age</th>\n",
       "      <th>BMI</th>\n",
       "      <th>SBP</th>\n",
       "      <th>HbA1c.Change</th>\n",
       "    </tr>\n",
       "  </thead>\n",
       "  <tbody>\n",
       "    <tr>\n",
       "      <th>0</th>\n",
       "      <td>True</td>\n",
       "      <td>7.3</td>\n",
       "      <td>6.7</td>\n",
       "      <td>True</td>\n",
       "      <td>65</td>\n",
       "      <td>32.34</td>\n",
       "      <td>139</td>\n",
       "      <td>-0.6</td>\n",
       "    </tr>\n",
       "    <tr>\n",
       "      <th>2</th>\n",
       "      <td>True</td>\n",
       "      <td>13.3</td>\n",
       "      <td>9.2</td>\n",
       "      <td>False</td>\n",
       "      <td>51</td>\n",
       "      <td>35.39</td>\n",
       "      <td>164</td>\n",
       "      <td>-4.1</td>\n",
       "    </tr>\n",
       "    <tr>\n",
       "      <th>5</th>\n",
       "      <td>True</td>\n",
       "      <td>7.8</td>\n",
       "      <td>7.3</td>\n",
       "      <td>False</td>\n",
       "      <td>43</td>\n",
       "      <td>32.08</td>\n",
       "      <td>124</td>\n",
       "      <td>-0.5</td>\n",
       "    </tr>\n",
       "    <tr>\n",
       "      <th>8</th>\n",
       "      <td>True</td>\n",
       "      <td>7.4</td>\n",
       "      <td>6.0</td>\n",
       "      <td>False</td>\n",
       "      <td>51</td>\n",
       "      <td>32.53</td>\n",
       "      <td>130</td>\n",
       "      <td>-1.4</td>\n",
       "    </tr>\n",
       "    <tr>\n",
       "      <th>9</th>\n",
       "      <td>True</td>\n",
       "      <td>8.1</td>\n",
       "      <td>7.3</td>\n",
       "      <td>False</td>\n",
       "      <td>62</td>\n",
       "      <td>29.70</td>\n",
       "      <td>134</td>\n",
       "      <td>-0.8</td>\n",
       "    </tr>\n",
       "  </tbody>\n",
       "</table>\n",
       "</div>"
      ],
      "text/plain": [
       "   GlucoseTreatment  HbA1c.Baseline  HbA1c.Followup  Female  Age    BMI  SBP  \\\n",
       "0              True             7.3             6.7    True   65  32.34  139   \n",
       "2              True            13.3             9.2   False   51  35.39  164   \n",
       "5              True             7.8             7.3   False   43  32.08  124   \n",
       "8              True             7.4             6.0   False   51  32.53  130   \n",
       "9              True             8.1             7.3   False   62  29.70  134   \n",
       "\n",
       "   HbA1c.Change  \n",
       "0          -0.6  \n",
       "2          -4.1  \n",
       "5          -0.5  \n",
       "8          -1.4  \n",
       "9          -0.8  "
      ]
     },
     "execution_count": 6,
     "metadata": {},
     "output_type": "execute_result"
    }
   ],
   "source": [
    "# create a new dataframe for patients that have had the glucose treatment\n",
    "\n",
    "df_gt = df[df['GlucoseTreatment'] == True]\n",
    "df_gt.head()"
   ]
  },
  {
   "cell_type": "code",
   "execution_count": 7,
   "metadata": {},
   "outputs": [
    {
     "data": {
      "text/plain": [
       "count    278.000000\n",
       "mean      -0.896043\n",
       "std        1.609118\n",
       "min       -5.100000\n",
       "25%       -1.900000\n",
       "50%       -0.900000\n",
       "75%        0.175000\n",
       "max        4.000000\n",
       "Name: HbA1c.Change, dtype: float64"
      ]
     },
     "execution_count": 7,
     "metadata": {},
     "output_type": "execute_result"
    }
   ],
   "source": [
    "df_gt['HbA1c.Change'].describe()"
   ]
  },
  {
   "cell_type": "markdown",
   "metadata": {},
   "source": [
    "### https://seaborn.pydata.org/generated/seaborn.histplot.html"
   ]
  },
  {
   "cell_type": "code",
   "execution_count": 8,
   "metadata": {},
   "outputs": [
    {
     "data": {
      "text/plain": [
       "Text(0, 0.5, 'Frequency')"
      ]
     },
     "execution_count": 8,
     "metadata": {},
     "output_type": "execute_result"
    },
    {
     "data": {
      "image/png": "[encoded data removed]",
      "text/plain": [
       "<Figure size 432x288 with 1 Axes>"
      ]
     },
     "metadata": {
      "needs_background": "light"
     },
     "output_type": "display_data"
    }
   ],
   "source": [
    "# create a histogram to look at the type of distribution as we need to know if it is normal distribution\n",
    "# this is just the histogram for the change in HbA1c change for just patients who had the glucose treatment\n",
    "\n",
    "sns.distplot(df_gt['HbA1c.Change'], kde=False, color='red', bins=10)\n",
    "plt.title('HbA1c Change  v Frequency [Glucose Treatment]', fontsize=20)\n",
    "plt.xlabel('HbA1c Change', fontsize=18)\n",
    "plt.ylabel('Frequency', fontsize=18)"
   ]
  },
  {
   "cell_type": "code",
   "execution_count": 9,
   "metadata": {},
   "outputs": [
    {
     "data": {
      "text/plain": [
       "(0.9971803426742554, 0.911409854888916)"
      ]
     },
     "execution_count": 9,
     "metadata": {},
     "output_type": "execute_result"
    }
   ],
   "source": [
    "# we can test for normality of the distribution as well\n",
    "\n",
    "stats.shapiro(df_gt['HbA1c.Change'])"
   ]
  },
  {
   "cell_type": "markdown",
   "metadata": {},
   "source": [
    "### https://docs.scipy.org/doc/scipy/reference/generated/scipy.stats.ttest_1samp.html"
   ]
  },
  {
   "cell_type": "code",
   "execution_count": 10,
   "metadata": {},
   "outputs": [
    {
     "data": {
      "text/plain": [
       "Ttest_1sampResult(statistic=-9.284602358707453, pvalue=4.90192572610703e-18)"
      ]
     },
     "execution_count": 10,
     "metadata": {},
     "output_type": "execute_result"
    }
   ],
   "source": [
    "# now we can do a one sample t-test on this data to see if the mean of the distribution is significantly different to zero\n",
    "\n",
    "stats.ttest_1samp(df_gt['HbA1c.Change'], popmean=0)"
   ]
  },
  {
   "cell_type": "markdown",
   "metadata": {},
   "source": [
    "## Test to see if the change in HbA1c is significantly different between patients that received the glucose treatment and those that did not receive it."
   ]
  },
  {
   "cell_type": "code",
   "execution_count": 11,
   "metadata": {},
   "outputs": [
    {
     "data": {
      "text/html": [
       "<div>\n",
       "<style scoped>\n",
       "    .dataframe tbody tr th:only-of-type {\n",
       "        vertical-align: middle;\n",
       "    }\n",
       "\n",
       "    .dataframe tbody tr th {\n",
       "        vertical-align: top;\n",
       "    }\n",
       "\n",
       "    .dataframe thead th {\n",
       "        text-align: right;\n",
       "    }\n",
       "</style>\n",
       "<table border=\"1\" class=\"dataframe\">\n",
       "  <thead>\n",
       "    <tr style=\"text-align: right;\">\n",
       "      <th></th>\n",
       "      <th>GlucoseTreatment</th>\n",
       "      <th>HbA1c.Baseline</th>\n",
       "      <th>HbA1c.Followup</th>\n",
       "      <th>Female</th>\n",
       "      <th>Age</th>\n",
       "      <th>BMI</th>\n",
       "      <th>SBP</th>\n",
       "      <th>HbA1c.Change</th>\n",
       "    </tr>\n",
       "  </thead>\n",
       "  <tbody>\n",
       "    <tr>\n",
       "      <th>1</th>\n",
       "      <td>False</td>\n",
       "      <td>7.9</td>\n",
       "      <td>5.8</td>\n",
       "      <td>True</td>\n",
       "      <td>56</td>\n",
       "      <td>31.64</td>\n",
       "      <td>142</td>\n",
       "      <td>-2.1</td>\n",
       "    </tr>\n",
       "    <tr>\n",
       "      <th>3</th>\n",
       "      <td>False</td>\n",
       "      <td>8.5</td>\n",
       "      <td>9.0</td>\n",
       "      <td>True</td>\n",
       "      <td>46</td>\n",
       "      <td>28.48</td>\n",
       "      <td>124</td>\n",
       "      <td>0.5</td>\n",
       "    </tr>\n",
       "    <tr>\n",
       "      <th>4</th>\n",
       "      <td>False</td>\n",
       "      <td>11.5</td>\n",
       "      <td>9.7</td>\n",
       "      <td>True</td>\n",
       "      <td>51</td>\n",
       "      <td>36.05</td>\n",
       "      <td>139</td>\n",
       "      <td>-1.8</td>\n",
       "    </tr>\n",
       "    <tr>\n",
       "      <th>6</th>\n",
       "      <td>False</td>\n",
       "      <td>10.1</td>\n",
       "      <td>7.0</td>\n",
       "      <td>False</td>\n",
       "      <td>38</td>\n",
       "      <td>28.74</td>\n",
       "      <td>118</td>\n",
       "      <td>-3.1</td>\n",
       "    </tr>\n",
       "    <tr>\n",
       "      <th>7</th>\n",
       "      <td>False</td>\n",
       "      <td>11.0</td>\n",
       "      <td>10.5</td>\n",
       "      <td>True</td>\n",
       "      <td>51</td>\n",
       "      <td>33.03</td>\n",
       "      <td>129</td>\n",
       "      <td>-0.5</td>\n",
       "    </tr>\n",
       "  </tbody>\n",
       "</table>\n",
       "</div>"
      ],
      "text/plain": [
       "   GlucoseTreatment  HbA1c.Baseline  HbA1c.Followup  Female  Age    BMI  SBP  \\\n",
       "1             False             7.9             5.8    True   56  31.64  142   \n",
       "3             False             8.5             9.0    True   46  28.48  124   \n",
       "4             False            11.5             9.7    True   51  36.05  139   \n",
       "6             False            10.1             7.0   False   38  28.74  118   \n",
       "7             False            11.0            10.5    True   51  33.03  129   \n",
       "\n",
       "   HbA1c.Change  \n",
       "1          -2.1  \n",
       "3           0.5  \n",
       "4          -1.8  \n",
       "6          -3.1  \n",
       "7          -0.5  "
      ]
     },
     "execution_count": 11,
     "metadata": {},
     "output_type": "execute_result"
    }
   ],
   "source": [
    "# create a new dataframe for those patients that did NOT receive the Glucose Treatment\n",
    "\n",
    "df_Nogt = df[df['GlucoseTreatment'] == False]\n",
    "df_Nogt.head()"
   ]
  },
  {
   "cell_type": "code",
   "execution_count": 12,
   "metadata": {},
   "outputs": [
    {
     "data": {
      "text/plain": [
       "count    242.000000\n",
       "mean      -0.874793\n",
       "std        1.714348\n",
       "min       -5.200000\n",
       "25%       -2.200000\n",
       "50%       -0.700000\n",
       "75%        0.200000\n",
       "max        4.100000\n",
       "Name: HbA1c.Change, dtype: float64"
      ]
     },
     "execution_count": 12,
     "metadata": {},
     "output_type": "execute_result"
    }
   ],
   "source": [
    "df_Nogt['HbA1c.Change'].describe()"
   ]
  },
  {
   "cell_type": "code",
   "execution_count": 13,
   "metadata": {},
   "outputs": [
    {
     "data": {
      "text/plain": [
       "Text(0, 0.5, 'Frequency')"
      ]
     },
     "execution_count": 13,
     "metadata": {},
     "output_type": "execute_result"
    },
    {
     "data": {
      "image/png": "[encoded data removed]",
      "text/plain": [
       "<Figure size 432x288 with 1 Axes>"
      ]
     },
     "metadata": {
      "needs_background": "light"
     },
     "output_type": "display_data"
    }
   ],
   "source": [
    "sns.distplot(df_Nogt['HbA1c.Change'], kde=False, color='red', bins=10)\n",
    "plt.title('HbA1c Change  v Frequency [NO Glucose Treatment]', fontsize=20)\n",
    "plt.xlabel('HbA1c Change', fontsize=18)\n",
    "plt.ylabel('Frequency', fontsize=18)"
   ]
  },
  {
   "cell_type": "code",
   "execution_count": 14,
   "metadata": {},
   "outputs": [
    {
     "data": {
      "text/plain": [
       "count    278.000000\n",
       "mean      -0.896043\n",
       "std        1.609118\n",
       "min       -5.100000\n",
       "25%       -1.900000\n",
       "50%       -0.900000\n",
       "75%        0.175000\n",
       "max        4.000000\n",
       "Name: HbA1c.Change, dtype: float64"
      ]
     },
     "execution_count": 14,
     "metadata": {},
     "output_type": "execute_result"
    }
   ],
   "source": [
    "df_gt['HbA1c.Change'].describe()"
   ]
  },
  {
   "cell_type": "code",
   "execution_count": 15,
   "metadata": {},
   "outputs": [
    {
     "data": {
      "text/plain": [
       "count    242.000000\n",
       "mean      -0.874793\n",
       "std        1.714348\n",
       "min       -5.200000\n",
       "25%       -2.200000\n",
       "50%       -0.700000\n",
       "75%        0.200000\n",
       "max        4.100000\n",
       "Name: HbA1c.Change, dtype: float64"
      ]
     },
     "execution_count": 15,
     "metadata": {},
     "output_type": "execute_result"
    }
   ],
   "source": [
    "df_Nogt['HbA1c.Change'].describe()"
   ]
  },
  {
   "cell_type": "markdown",
   "metadata": {},
   "source": [
    "## Get a visualalization of the difference in change between Treatment and No Treatment"
   ]
  },
  {
   "cell_type": "markdown",
   "metadata": {},
   "source": [
    "### https://seaborn.pydata.org/generated/seaborn.boxplot.html"
   ]
  },
  {
   "cell_type": "code",
   "execution_count": 16,
   "metadata": {},
   "outputs": [
    {
     "data": {
      "image/png": "[encoded data removed]",
      "text/plain": [
       "<Figure size 432x288 with 1 Axes>"
      ]
     },
     "metadata": {
      "needs_background": "light"
     },
     "output_type": "display_data"
    }
   ],
   "source": [
    "# NOTE: noticet hat we are using the original dataframe df for doing this! as we are compating both Treatment/no treatment\n",
    "\n",
    "ax = sns.boxplot(x='GlucoseTreatment', y='HbA1c.Change', data=df, order=[True, False])"
   ]
  },
  {
   "cell_type": "markdown",
   "metadata": {},
   "source": [
    "### https://docs.scipy.org/doc/scipy/reference/generated/scipy.stats.ttest_ind.html"
   ]
  },
  {
   "cell_type": "code",
   "execution_count": 17,
   "metadata": {},
   "outputs": [
    {
     "data": {
      "text/plain": [
       "Ttest_indResult(statistic=-0.14570039250445976, pvalue=0.8842145899113226)"
      ]
     },
     "execution_count": 17,
     "metadata": {},
     "output_type": "execute_result"
    }
   ],
   "source": [
    "# we are going to do a 2 sample t-test for independence here instead of paired t-test as looking at change in each group\n",
    "\n",
    "stats.ttest_ind(df_gt['HbA1c.Change'], df_Nogt['HbA1c.Change'])"
   ]
  },
  {
   "cell_type": "markdown",
   "metadata": {},
   "source": [
    "## Alternative way to do this using Researchpy"
   ]
  },
  {
   "cell_type": "markdown",
   "metadata": {},
   "source": [
    "### https://researchpy.readthedocs.io/en/latest/ttest_documentation.html"
   ]
  },
  {
   "cell_type": "code",
   "execution_count": 18,
   "metadata": {},
   "outputs": [
    {
     "data": {
      "text/plain": [
       "(       Variable      N      Mean        SD        SE  95% Conf.  Interval\n",
       " 0  HbA1c.Change  278.0 -0.896043  1.609118  0.096509  -1.086026 -0.706060\n",
       " 1  HbA1c.Change  242.0 -0.874793  1.714348  0.110202  -1.091876 -0.657710\n",
       " 2      combined  520.0 -0.886154  1.657342  0.072679  -1.028936 -0.743372,\n",
       "                             Independent t-test   results\n",
       " 0  Difference (HbA1c.Change - HbA1c.Change) =    -0.0212\n",
       " 1                        Degrees of freedom =   518.0000\n",
       " 2                                         t =    -0.1457\n",
       " 3                     Two side test p value =     0.8842\n",
       " 4                    Difference < 0 p value =     0.4421\n",
       " 5                    Difference > 0 p value =     0.5579\n",
       " 6                                 Cohen's d =    -0.0128\n",
       " 7                                 Hedge's g =    -0.0128\n",
       " 8                             Glass's delta =    -0.0132\n",
       " 9                                         r =     0.0064)"
      ]
     },
     "execution_count": 18,
     "metadata": {},
     "output_type": "execute_result"
    }
   ],
   "source": [
    "\n",
    "rp.ttest(df_gt['HbA1c.Change'], df_Nogt['HbA1c.Change'])"
   ]
  },
  {
   "cell_type": "code",
   "execution_count": 19,
   "metadata": {},
   "outputs": [
    {
     "data": {
      "text/html": [
       "<div>\n",
       "<style scoped>\n",
       "    .dataframe tbody tr th:only-of-type {\n",
       "        vertical-align: middle;\n",
       "    }\n",
       "\n",
       "    .dataframe tbody tr th {\n",
       "        vertical-align: top;\n",
       "    }\n",
       "\n",
       "    .dataframe thead th {\n",
       "        text-align: right;\n",
       "    }\n",
       "</style>\n",
       "<table border=\"1\" class=\"dataframe\">\n",
       "  <thead>\n",
       "    <tr style=\"text-align: right;\">\n",
       "      <th></th>\n",
       "      <th>Variable</th>\n",
       "      <th>N</th>\n",
       "      <th>Mean</th>\n",
       "      <th>SD</th>\n",
       "      <th>SE</th>\n",
       "      <th>95% Conf.</th>\n",
       "      <th>Interval</th>\n",
       "    </tr>\n",
       "  </thead>\n",
       "  <tbody>\n",
       "    <tr>\n",
       "      <th>0</th>\n",
       "      <td>HbA1c.Change</td>\n",
       "      <td>278.0</td>\n",
       "      <td>-0.896043</td>\n",
       "      <td>1.609118</td>\n",
       "      <td>0.096509</td>\n",
       "      <td>-1.086026</td>\n",
       "      <td>-0.706060</td>\n",
       "    </tr>\n",
       "    <tr>\n",
       "      <th>1</th>\n",
       "      <td>HbA1c.Change</td>\n",
       "      <td>242.0</td>\n",
       "      <td>-0.874793</td>\n",
       "      <td>1.714348</td>\n",
       "      <td>0.110202</td>\n",
       "      <td>-1.091876</td>\n",
       "      <td>-0.657710</td>\n",
       "    </tr>\n",
       "    <tr>\n",
       "      <th>2</th>\n",
       "      <td>combined</td>\n",
       "      <td>520.0</td>\n",
       "      <td>-0.886154</td>\n",
       "      <td>1.657342</td>\n",
       "      <td>0.072679</td>\n",
       "      <td>-1.028936</td>\n",
       "      <td>-0.743372</td>\n",
       "    </tr>\n",
       "  </tbody>\n",
       "</table>\n",
       "</div>"
      ],
      "text/plain": [
       "       Variable      N      Mean        SD        SE  95% Conf.  Interval\n",
       "0  HbA1c.Change  278.0 -0.896043  1.609118  0.096509  -1.086026 -0.706060\n",
       "1  HbA1c.Change  242.0 -0.874793  1.714348  0.110202  -1.091876 -0.657710\n",
       "2      combined  520.0 -0.886154  1.657342  0.072679  -1.028936 -0.743372"
      ]
     },
     "execution_count": 19,
     "metadata": {},
     "output_type": "execute_result"
    }
   ],
   "source": [
    "# we can return two python objects des = description, res = results\n",
    "\n",
    "des, res = rp.ttest(df_gt['HbA1c.Change'], df_Nogt['HbA1c.Change'])\n",
    "\n",
    "des"
   ]
  },
  {
   "cell_type": "code",
   "execution_count": 20,
   "metadata": {},
   "outputs": [
    {
     "data": {
      "text/html": [
       "<div>\n",
       "<style scoped>\n",
       "    .dataframe tbody tr th:only-of-type {\n",
       "        vertical-align: middle;\n",
       "    }\n",
       "\n",
       "    .dataframe tbody tr th {\n",
       "        vertical-align: top;\n",
       "    }\n",
       "\n",
       "    .dataframe thead th {\n",
       "        text-align: right;\n",
       "    }\n",
       "</style>\n",
       "<table border=\"1\" class=\"dataframe\">\n",
       "  <thead>\n",
       "    <tr style=\"text-align: right;\">\n",
       "      <th></th>\n",
       "      <th>Independent t-test</th>\n",
       "      <th>results</th>\n",
       "    </tr>\n",
       "  </thead>\n",
       "  <tbody>\n",
       "    <tr>\n",
       "      <th>0</th>\n",
       "      <td>Difference (HbA1c.Change - HbA1c.Change) =</td>\n",
       "      <td>-0.0212</td>\n",
       "    </tr>\n",
       "    <tr>\n",
       "      <th>1</th>\n",
       "      <td>Degrees of freedom =</td>\n",
       "      <td>518.0000</td>\n",
       "    </tr>\n",
       "    <tr>\n",
       "      <th>2</th>\n",
       "      <td>t =</td>\n",
       "      <td>-0.1457</td>\n",
       "    </tr>\n",
       "    <tr>\n",
       "      <th>3</th>\n",
       "      <td>Two side test p value =</td>\n",
       "      <td>0.8842</td>\n",
       "    </tr>\n",
       "    <tr>\n",
       "      <th>4</th>\n",
       "      <td>Difference &lt; 0 p value =</td>\n",
       "      <td>0.4421</td>\n",
       "    </tr>\n",
       "    <tr>\n",
       "      <th>5</th>\n",
       "      <td>Difference &gt; 0 p value =</td>\n",
       "      <td>0.5579</td>\n",
       "    </tr>\n",
       "    <tr>\n",
       "      <th>6</th>\n",
       "      <td>Cohen's d =</td>\n",
       "      <td>-0.0128</td>\n",
       "    </tr>\n",
       "    <tr>\n",
       "      <th>7</th>\n",
       "      <td>Hedge's g =</td>\n",
       "      <td>-0.0128</td>\n",
       "    </tr>\n",
       "    <tr>\n",
       "      <th>8</th>\n",
       "      <td>Glass's delta =</td>\n",
       "      <td>-0.0132</td>\n",
       "    </tr>\n",
       "    <tr>\n",
       "      <th>9</th>\n",
       "      <td>r =</td>\n",
       "      <td>0.0064</td>\n",
       "    </tr>\n",
       "  </tbody>\n",
       "</table>\n",
       "</div>"
      ],
      "text/plain": [
       "                            Independent t-test   results\n",
       "0  Difference (HbA1c.Change - HbA1c.Change) =    -0.0212\n",
       "1                        Degrees of freedom =   518.0000\n",
       "2                                         t =    -0.1457\n",
       "3                     Two side test p value =     0.8842\n",
       "4                    Difference < 0 p value =     0.4421\n",
       "5                    Difference > 0 p value =     0.5579\n",
       "6                                 Cohen's d =    -0.0128\n",
       "7                                 Hedge's g =    -0.0128\n",
       "8                             Glass's delta =    -0.0132\n",
       "9                                         r =     0.0064"
      ]
     },
     "execution_count": 20,
     "metadata": {},
     "output_type": "execute_result"
    }
   ],
   "source": [
    "res"
   ]
  },
  {
   "cell_type": "code",
   "execution_count": null,
   "metadata": {},
   "outputs": [],
   "source": [
    "\n"
   ]
  }
 ],
 "metadata": {
  "kernelspec": {
   "display_name": "Python 3",
   "language": "python",
   "name": "python3"
  },
  "language_info": {
   "codemirror_mode": {
    "name": "ipython",
    "version": 3
   },
   "file_extension": ".py",
   "mimetype": "text/x-python",
   "name": "python",
   "nbconvert_exporter": "python",
   "pygments_lexer": "ipython3",
   "version": "3.7.3"
  }
 },
 "nbformat": 4,
 "nbformat_minor": 2
}
