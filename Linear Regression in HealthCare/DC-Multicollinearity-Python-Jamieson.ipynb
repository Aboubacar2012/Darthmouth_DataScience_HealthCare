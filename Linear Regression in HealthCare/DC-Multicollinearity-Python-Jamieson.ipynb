{
 "cells": [
  {
   "cell_type": "markdown",
   "metadata": {},
   "source": [
    "#  Linear Regression, ANOVA & Collinearity for the Diabetes Dataset"
   ]
  },
  {
   "cell_type": "markdown",
   "metadata": {},
   "source": [
    "### In this video we will be relating HbA1c followup to all other features and discussing collinearity"
   ]
  },
  {
   "cell_type": "code",
   "execution_count": null,
   "metadata": {},
   "outputs": [],
   "source": [
    "import seaborn as sns\n",
    "import pandas as pd\n",
    "%matplotlib inline\n",
    "import matplotlib.pyplot as plt\n",
    "import scipy.stats as stats\n",
    "import warnings\n",
    "warnings.simplefilter(\"ignore\")"
   ]
  },
  {
   "cell_type": "code",
   "execution_count": null,
   "metadata": {},
   "outputs": [],
   "source": [
    "# read in the data from a website in CSV format using Pandas\n",
    "\n",
    "df = pd.read_csv(\"diabetes_treatment.csv\")\n",
    "df.head()"
   ]
  },
  {
   "cell_type": "code",
   "execution_count": null,
   "metadata": {},
   "outputs": [],
   "source": [
    "print(df.info()) # print out the columns and their types and number in reries format"
   ]
  },
  {
   "cell_type": "code",
   "execution_count": null,
   "metadata": {},
   "outputs": [],
   "source": [
    "df.describe()"
   ]
  },
  {
   "cell_type": "markdown",
   "metadata": {},
   "source": [
    "## Creating categories and formatting the dataset"
   ]
  },
  {
   "cell_type": "code",
   "execution_count": null,
   "metadata": {},
   "outputs": [],
   "source": [
    "# chaning the name for these features to avoid a naming convention later\n",
    "\n",
    "df['HbA1c_Followup'] = df['HbA1c.Followup']\n",
    "df['HbA1c_Baseline'] = df['HbA1c.Baseline']\n",
    "df.head()"
   ]
  },
  {
   "cell_type": "code",
   "execution_count": null,
   "metadata": {},
   "outputs": [],
   "source": [
    "# creating a binary column for Gender\n",
    "\n",
    "df[\"Gender\"] = df[\"Female\"].astype(int)\n",
    "df.head()"
   ]
  },
  {
   "cell_type": "markdown",
   "metadata": {},
   "source": [
    "## Creating categorical variables from continuous data"
   ]
  },
  {
   "cell_type": "markdown",
   "metadata": {},
   "source": [
    "### https://pandas.pydata.org/pandas-docs/stable/reference/api/pandas.qcut.html\n",
    "### https://pandas.pydata.org/pandas-docs/stable/reference/api/pandas.cut.html"
   ]
  },
  {
   "cell_type": "code",
   "execution_count": null,
   "metadata": {},
   "outputs": [],
   "source": [
    "# example of using qcut to segment or categorize a data column\n",
    "\n",
    "pd.Series(pd.qcut(range(12), 3)).value_counts()"
   ]
  },
  {
   "cell_type": "code",
   "execution_count": null,
   "metadata": {},
   "outputs": [],
   "source": [
    "# separating into 3 categories\n",
    "\n",
    "pd.qcut(df['BMI'], q=3).value_counts()"
   ]
  },
  {
   "cell_type": "code",
   "execution_count": null,
   "metadata": {},
   "outputs": [],
   "source": [
    "# creating BMI categories\n",
    "\n",
    "df['BMI_Category'] = pd.qcut(df['BMI'], q=3, precision = 0)\n",
    "df.head()"
   ]
  },
  {
   "cell_type": "code",
   "execution_count": null,
   "metadata": {},
   "outputs": [],
   "source": [
    "# using cut to create BMI categories\n",
    "\n",
    "df['BMI_Category'] = pd.cut(df['BMI'], bins=3)\n",
    "df.head()"
   ]
  },
  {
   "cell_type": "code",
   "execution_count": null,
   "metadata": {},
   "outputs": [],
   "source": [
    "# selecting the cut ranges for consistency with the R video\n",
    "\n",
    "cat_bins =[0.0, 30.0, 35.0, 40.0]\n",
    "df['BMI_Category'] = pd.cut(df['BMI'], bins=cat_bins)\n",
    "df.head()"
   ]
  },
  {
   "cell_type": "markdown",
   "metadata": {},
   "source": [
    "## ANOVA test on categorial BMI and other features"
   ]
  },
  {
   "cell_type": "markdown",
   "metadata": {},
   "source": [
    "### There are many ways to do ANOVA testing in Python - here is one way similar to R"
   ]
  },
  {
   "cell_type": "code",
   "execution_count": null,
   "metadata": {},
   "outputs": [],
   "source": [
    "import statsmodels.api as sm\n",
    "from statsmodels.formula.api import ols\n",
    "from scipy import stats"
   ]
  },
  {
   "cell_type": "code",
   "execution_count": null,
   "metadata": {},
   "outputs": [],
   "source": [
    "# In this summary of followup against all other features we see that the p-values for the BMI_categories\n",
    "# have values greater than 0.05 which implies no significance.\n",
    "# They therefore do not significantly predict the HbA1c.followup level or output when controlling for \n",
    "# or adjusting for other input features. \n",
    "# In this case prediction means that these categories do not explain the variance in the HbA1c.followup level.\n",
    "#NOte - BMI categories do not include the reference BMI category 0-30 range. \n",
    "\n",
    "stats=ols('HbA1c_Followup ~ HbA1c_Baseline + Age + Gender + BMI_Category + SBP', data=df).fit()\n",
    "print(stats.summary())"
   ]
  },
  {
   "cell_type": "code",
   "execution_count": null,
   "metadata": {},
   "outputs": [],
   "source": [
    "# For the ANOVA tests the BMI categories are summarized with the total BMI\n",
    "# Once again we see that the p-value for the BMI_category is much greater than 0.05 and hence not significant.\n",
    "\n",
    "stats=ols('HbA1c_Followup ~ HbA1c_Baseline + Age + Gender + BMI_Category + SBP', data=df).fit() \n",
    "print(sm.stats.anova_lm(stats, typ=2))"
   ]
  },
  {
   "cell_type": "markdown",
   "metadata": {},
   "source": [
    "## Collinearity"
   ]
  },
  {
   "cell_type": "markdown",
   "metadata": {},
   "source": [
    "### If you put 2 corrleated variables into a model they will compete to explain variation in the model output"
   ]
  },
  {
   "cell_type": "code",
   "execution_count": null,
   "metadata": {},
   "outputs": [],
   "source": [
    "# Previously we saw that when we combined all the other features with BMI, including HbA1c_Baseling, \n",
    "# the BMI did not significantly predict the output or explain the variance in the output. \n",
    "# However, let's see what happens when we just use BMI by itself as a predictor of the HbA1c.Followup levels.\n",
    "# Here we see that the regression coeficient is sizable and the p-value is very significant implying \n",
    "# that BMI is of significant importance in predicting HbA1c.Followup\n",
    "\n",
    "stats=ols('HbA1c_Followup ~ BMI', data=df).fit() \n",
    "print(stats.summary())"
   ]
  },
  {
   "cell_type": "code",
   "execution_count": null,
   "metadata": {},
   "outputs": [],
   "source": [
    "# But what if BMI is controlling or adjusting for HbA1c_Baseline?\n",
    "\n",
    "stats=ols('HbA1c_Followup ~ HbA1c_Baseline + BMI', data=df).fit() \n",
    "print(stats.summary())"
   ]
  },
  {
   "cell_type": "markdown",
   "metadata": {},
   "source": [
    "### Conclusion - while BMI related by iteself to HbA1c_followup is significant in predicting output (p-value~0)\n",
    "### if controlled from where the patient's started i.e. Baseline, it is not significantly related to HbA1c_followup\n",
    "### Effectively the two input features HbA1c_Baseline and BMI are collinear features."
   ]
  },
  {
   "cell_type": "code",
   "execution_count": null,
   "metadata": {},
   "outputs": [],
   "source": [
    "stats=ols('HbA1c_Followup ~ HbA1c_Baseline + BMI', data=df).fit() \n",
    "print(sm.stats.anova_lm(stats, typ=2))"
   ]
  },
  {
   "cell_type": "markdown",
   "metadata": {},
   "source": [
    "## Linear Regression using Sci-kit Learn"
   ]
  },
  {
   "cell_type": "code",
   "execution_count": null,
   "metadata": {},
   "outputs": [],
   "source": [
    "import pandas as pd\n",
    "\n",
    "df = pd.read_csv(\"diabetes_treatment.csv\")\n",
    "df.head()"
   ]
  },
  {
   "cell_type": "code",
   "execution_count": null,
   "metadata": {},
   "outputs": [],
   "source": [
    "df[\"Gender\"] = df[\"Female\"].astype(int)\n",
    "df.head()"
   ]
  },
  {
   "cell_type": "code",
   "execution_count": null,
   "metadata": {},
   "outputs": [],
   "source": [
    "[col for col in df.columns]"
   ]
  },
  {
   "cell_type": "code",
   "execution_count": null,
   "metadata": {},
   "outputs": [],
   "source": [
    "features = ['HbA1c.Baseline']\n",
    "#features = ['HbA1c.Baseline', 'BMI', 'Age', 'SBP', 'Gender']"
   ]
  },
  {
   "cell_type": "code",
   "execution_count": null,
   "metadata": {},
   "outputs": [],
   "source": [
    "target = ['HbA1c.Followup']"
   ]
  },
  {
   "cell_type": "code",
   "execution_count": null,
   "metadata": {},
   "outputs": [],
   "source": [
    "x = df[features]"
   ]
  },
  {
   "cell_type": "code",
   "execution_count": null,
   "metadata": {},
   "outputs": [],
   "source": [
    "y = df[target]"
   ]
  },
  {
   "cell_type": "code",
   "execution_count": null,
   "metadata": {},
   "outputs": [],
   "source": [
    "from sklearn.linear_model import LinearRegression\n",
    "from sklearn.model_selection import train_test_split\n",
    "from sklearn.metrics import mean_squared_error, r2_score"
   ]
  },
  {
   "cell_type": "code",
   "execution_count": null,
   "metadata": {},
   "outputs": [],
   "source": [
    "x_train, x_test, y_train, y_test = train_test_split(x,y)"
   ]
  },
  {
   "cell_type": "code",
   "execution_count": null,
   "metadata": {},
   "outputs": [],
   "source": [
    "linrgr = LinearRegression()\n",
    "linrgr.fit(x_train, y_train)"
   ]
  },
  {
   "cell_type": "code",
   "execution_count": null,
   "metadata": {},
   "outputs": [],
   "source": [
    "linrgr.score(x_test, y_test)"
   ]
  },
  {
   "cell_type": "code",
   "execution_count": null,
   "metadata": {},
   "outputs": [],
   "source": [
    "# model prediction for the test data input\n",
    "y_pred = linrgr.predict(x_test)\n",
    "\n",
    "# Here are the regression coefficients\n",
    "print('Regression Coeffs:\\n', linrgr.coef_)\n",
    "\n",
    "# The coefficient of determination is an indicator of model performance or how much features explain target variance\n",
    "print('Coeff of Determination - R^2:\\n', r2_score(y_test, y_pred))\n",
    "\n",
    "# The mean squared error indicates the error between the model predictions and the ground-truth data\n",
    "print('MSE: \\n', mean_squared_error(y_test, y_pred))"
   ]
  },
  {
   "cell_type": "code",
   "execution_count": null,
   "metadata": {},
   "outputs": [],
   "source": [
    "import seaborn as sns\n",
    "import matplotlib.pyplot as plt\n",
    "%matplotlib inline\n",
    "\n",
    "#sns.scatterplot(df['BMI'], df_diabetes['HbA1c.Followup']);\n",
    "\n",
    "sns.scatterplot(df['HbA1c.Baseline'], df['HbA1c.Followup']);\n",
    "plt.plot(x_test, y_pred, color='green', linewidth=2)"
   ]
  },
  {
   "cell_type": "code",
   "execution_count": null,
   "metadata": {},
   "outputs": [],
   "source": []
  }
 ],
 "metadata": {
  "kernelspec": {
   "display_name": "Python 3",
   "language": "python",
   "name": "python3"
  },
  "language_info": {
   "codemirror_mode": {
    "name": "ipython",
    "version": 3
   },
   "file_extension": ".py",
   "mimetype": "text/x-python",
   "name": "python",
   "nbconvert_exporter": "python",
   "pygments_lexer": "ipython3",
   "version": "3.7.3"
  }
 },
 "nbformat": 4,
 "nbformat_minor": 2
}
