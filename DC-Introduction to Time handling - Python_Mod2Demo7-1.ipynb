{
 "cells": [
  {
   "cell_type": "markdown",
   "metadata": {},
   "source": [
    "# Introduction to Date and Time handling in Python"
   ]
  },
  {
   "cell_type": "markdown",
   "metadata": {},
   "source": [
    "## Using the Datetime Library"
   ]
  },
  {
   "cell_type": "markdown",
   "metadata": {},
   "source": [
    "### Datetime contains several objects:\n",
    "<li>date -> (month,day,year)\n",
    "<li>time -> (hours,minutes,seconds)\n",
    "<li>datetime -> (month,day,year,hours,minutes,seconds)\n",
    "<li>timedelta -> (datetime(A) - datetime(B)   OR  date(A) - date(B))"
   ]
  },
  {
   "cell_type": "markdown",
   "metadata": {},
   "source": [
    "https://docs.python.org/3/library/datetime.html"
   ]
  },
  {
   "cell_type": "code",
   "execution_count": null,
   "metadata": {},
   "outputs": [],
   "source": [
    "# In order to compare dates we have to use the datetime library \n",
    "import datetime\n",
    "d1 = datetime.date(1970,1,1)\n",
    "d2 = datetime.date(2020,11,15)\n",
    "max(d1,d2)"
   ]
  },
  {
   "cell_type": "code",
   "execution_count": null,
   "metadata": {},
   "outputs": [],
   "source": [
    "print(d2 - d1)"
   ]
  },
  {
   "cell_type": "markdown",
   "metadata": {},
   "source": [
    "### Using datetime.date"
   ]
  },
  {
   "cell_type": "code",
   "execution_count": null,
   "metadata": {},
   "outputs": [],
   "source": [
    "import datetime\n",
    "epoch_time = datetime.date(1970,1,1)\n",
    "today = datetime.date.today()\n",
    "print(epoch_time,today)\n",
    "print(\"Number days between start of Epoch time and today is\",today - epoch_time)"
   ]
  },
  {
   "cell_type": "code",
   "execution_count": null,
   "metadata": {},
   "outputs": [],
   "source": [
    "#We get rid of the hours, minutes and seconds after the answer above by extracting just days by using the days method\n",
    "print(\"Number days between start of Epoch time and today is\",(today - epoch_time).days, \"days\")"
   ]
  },
  {
   "cell_type": "markdown",
   "metadata": {},
   "source": [
    "### Using datetime.datetime"
   ]
  },
  {
   "cell_type": "code",
   "execution_count": null,
   "metadata": {},
   "outputs": [],
   "source": [
    "# datetime will give days, hours minutes, seconds down to microsecond resolution.\n",
    "epoch_time_start = datetime.datetime(1970,1,1,0,0,0)\n",
    "now_time = datetime.datetime.now()\n",
    "print(epoch_time_start, now_time)\n",
    "print(\"Duration between start of Epoch time and now is\", now_time - epoch_time_start)"
   ]
  },
  {
   "cell_type": "markdown",
   "metadata": {},
   "source": [
    "### Using datetime.timedelta\n"
   ]
  },
  {
   "cell_type": "code",
   "execution_count": null,
   "metadata": {},
   "outputs": [],
   "source": [
    "# timedelta can store the duration between two date\n",
    "epoch_time_start = datetime.datetime(1970,1,1,0,0,0)\n",
    "now_time = datetime.datetime.now()\n",
    "time_since_start_epoch = now_time - epoch_time_start\n",
    "print(\"Duration since start of epoch time is\",time_since_start_epoch)"
   ]
  },
  {
   "cell_type": "code",
   "execution_count": null,
   "metadata": {},
   "outputs": [],
   "source": [
    "# we can perform operations on time objects using timedelta\n",
    "today=datetime.date.today()\n",
    "two_days_in_future =today+datetime.timedelta(days=2)\n",
    "print(today)\n",
    "print(two_days_in_future)\n"
   ]
  },
  {
   "cell_type": "code",
   "execution_count": null,
   "metadata": {},
   "outputs": [],
   "source": [
    "# we can use delta time to move our clock ahead\n",
    "now_time = datetime.datetime.today()\n",
    "one_hour_ten_minutes_and_three_seconds_later = now_time + datetime.timedelta(hours=1,minutes=10,seconds=3)\n",
    "\n",
    "print(now_time)\n",
    "print(one_hour_ten_minutes_and_three_seconds_later)"
   ]
  },
  {
   "cell_type": "code",
   "execution_count": null,
   "metadata": {},
   "outputs": [],
   "source": [
    "# we can use delta time to move our clock backwards\n",
    "now_time =datetime.datetime.today()\n",
    "one_hour_ten_minutes_and_three_seconds_later = now_time - datetime.timedelta(hours=1,minutes=10,seconds=3)\n",
    "\n",
    "print(now_time)\n",
    "print(one_hour_ten_minutes_and_three_seconds_later)"
   ]
  },
  {
   "cell_type": "code",
   "execution_count": null,
   "metadata": {},
   "outputs": [],
   "source": [
    "# we can use timedelta to print out number of seconds in a period\n",
    "print('Number of seconds in an year:', datetime.timedelta(days=365).total_seconds())"
   ]
  },
  {
   "cell_type": "code",
   "execution_count": null,
   "metadata": {},
   "outputs": [],
   "source": []
  }
 ],
 "metadata": {
  "kernelspec": {
   "display_name": "Python 3",
   "language": "python",
   "name": "python3"
  },
  "language_info": {
   "codemirror_mode": {
    "name": "ipython",
    "version": 3
   },
   "file_extension": ".py",
   "mimetype": "text/x-python",
   "name": "python",
   "nbconvert_exporter": "python",
   "pygments_lexer": "ipython3",
   "version": "3.7.3"
  }
 },
 "nbformat": 4,
 "nbformat_minor": 1
}
